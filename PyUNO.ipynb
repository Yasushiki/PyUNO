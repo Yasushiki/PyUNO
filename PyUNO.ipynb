{
 "cells": [
  {
   "cell_type": "code",
   "execution_count": 5,
   "metadata": {},
   "outputs": [],
   "source": [
    "import random\n",
    "numbers = ('one','two','three','four','five','six','seven','eight','nine','+2','block','reverse')\n",
    "especiais = ('+4','color')\n",
    "colors = ('red','green','blue','yellow')"
   ]
  },
  {
   "cell_type": "markdown",
   "metadata": {},
   "source": [
    "# CARDS"
   ]
  },
  {
   "cell_type": "code",
   "execution_count": 6,
   "metadata": {},
   "outputs": [],
   "source": [
    "class Card():\n",
    "    \n",
    "    def __init__(self,number,color):\n",
    "        \n",
    "        self.number = number\n",
    "        self.color = color\n",
    "        \n",
    "    def __str__(self):\n",
    "        return f'{self.number} {self.color}'\n",
    "    \n",
    "    "
   ]
  },
  {
   "cell_type": "markdown",
   "metadata": {},
   "source": [
    "# DECK"
   ]
  },
  {
   "cell_type": "code",
   "execution_count": 7,
   "metadata": {},
   "outputs": [],
   "source": [
    "class Deck:\n",
    "    \n",
    "    def __init__(self):\n",
    "        \n",
    "        self.deck = []\n",
    "        \n",
    "        '''NORMAL CARDS'''\n",
    "        for number in numbers:\n",
    "            for color in colors:\n",
    "                \n",
    "                new_card1 = Card(number,color)\n",
    "                new_card2 = Card(number,color)\n",
    "                \n",
    "                self.deck.append(new_card1)\n",
    "                self.deck.append(new_card2)\n",
    "        \n",
    "        '''ZERO'''\n",
    "        for color in colors:\n",
    "                \n",
    "            new_card = Card('Zero',color)\n",
    "                \n",
    "            self.deck.append(new_card)\n",
    "            \n",
    "        '''BLACK'''\n",
    "        for especial in especiais:\n",
    "            for color in colors:\n",
    "                \n",
    "                new_card = Card(especial,'Preto')\n",
    "                \n",
    "                self.deck.append(new_card)\n",
    "                \n",
    "    def shuffle(self):\n",
    "        random.shuffle(self.deck)\n",
    "        \n",
    "    def one_card(self):\n",
    "        return self.deck.pop()"
   ]
  },
  {
   "cell_type": "markdown",
   "metadata": {},
   "source": [
    "# PLAYER"
   ]
  },
  {
   "cell_type": "code",
   "execution_count": 8,
   "metadata": {},
   "outputs": [],
   "source": [
    "class Player:\n",
    "    \n",
    "    def __init__(self,name):\n",
    "        \n",
    "        self.name = name\n",
    "        \n",
    "        self.player_deck = []\n",
    "        \n",
    "\n",
    "    def __len__(self):\n",
    "        return len(self.player_deck)\n",
    "    \n",
    "    def __str__(self):\n",
    "        return f'{self.name} have {len(self.player_deck)} cards'\n",
    "    \n",
    "    def joga(self):\n",
    "        return player_deck"
   ]
  },
  {
   "cell_type": "markdown",
   "metadata": {},
   "source": [
    "# GAME"
   ]
  },
  {
   "cell_type": "code",
   "execution_count": 10,
   "metadata": {},
   "outputs": [],
   "source": [
    "player1 = Player('player1')\n",
    "player2 = Player('player2')\n",
    "\n",
    "game_deck = Deck()\n",
    "game_deck.shuffle()\n",
    "\n",
    "while len(player2) < 7:\n",
    "    \n",
    "    if len(player1) < 7:\n",
    "        player1.player_deck.append(game_deck.one_card())\n",
    "        \n",
    "    player2.player_deck.append(game_deck.one_card())\n",
    "\n",
    "\n",
    "gameon = True\n",
    "desk_card = game_deck.one_card()"
   ]
  },
  {
   "cell_type": "code",
   "execution_count": 12,
   "metadata": {},
   "outputs": [
    {
     "name": "stdout",
     "output_type": "stream",
     "text": [
      "Not playable\n",
      "Not playable\n",
      "Playable\n",
      "Playable\n",
      "Not playable\n",
      "Not playable\n",
      "Not playable\n"
     ]
    }
   ],
   "source": [
    "while gameon:\n",
    "    \n",
    "    #começa o jogo\n",
    "    \n",
    "    \n",
    "    \n",
    "    #verifica se um jogador pode jogar\n",
    "    playable = []\n",
    "    \n",
    "    for card in player1.player_deck:\n",
    "        \n",
    "        if card.color == desk_card.color or card.number == desk_card.number:\n",
    "            \n",
    "            playable.append(card)\n",
    "            print('Playable')\n",
    "            \n",
    "        else:\n",
    "            print('Not playable')\n",
    "    \n",
    "    \n",
    "    #joga\n",
    "    \n",
    "    #pega carta\n",
    "    break"
   ]
  },
  {
   "cell_type": "code",
   "execution_count": null,
   "metadata": {},
   "outputs": [],
   "source": []
  }
 ],
 "metadata": {
  "kernelspec": {
   "display_name": "Python 3",
   "language": "python",
   "name": "python3"
  },
  "language_info": {
   "codemirror_mode": {
    "name": "ipython",
    "version": 3
   },
   "file_extension": ".py",
   "mimetype": "text/x-python",
   "name": "python",
   "nbconvert_exporter": "python",
   "pygments_lexer": "ipython3",
   "version": "3.8.2"
  }
 },
 "nbformat": 4,
 "nbformat_minor": 4
}
