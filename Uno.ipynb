{
 "cells": [
  {
   "cell_type": "markdown",
   "metadata": {},
   "source": [
    "# <font color=#ff5555> U<font color=#ffaa00>N<font color=#55aa55>O<font color=#5555ff>!"
   ]
  },
  {
   "cell_type": "markdown",
   "metadata": {},
   "source": [
    "![Image](https://upload.wikimedia.org/wikipedia/commons/thumb/9/95/UNO_cards_deck.svg/3362px-UNO_cards_deck.svg.png)"
   ]
  },
  {
   "cell_type": "code",
   "execution_count": 1,
   "metadata": {},
   "outputs": [],
   "source": [
    "import random\n",
    "numbers = ('Um','Dois','Três','Quatro','Cinco','Seis','Sete','Oito','Nove','+2','Bloqueio','Vira')\n",
    "especiais = ('+4','Cor')\n",
    "colors = ('Vermelho','Verde','Azul','Amarelo')"
   ]
  },
  {
   "cell_type": "markdown",
   "metadata": {},
   "source": [
    "# CARTAS"
   ]
  },
  {
   "cell_type": "code",
   "execution_count": 2,
   "metadata": {},
   "outputs": [],
   "source": [
    "class Card():\n",
    "    \n",
    "    def __init__(self,number,color):\n",
    "        \n",
    "        self.number = number\n",
    "        self.color = color\n",
    "        \n",
    "    def __str__(self):\n",
    "        return f'{self.number} {self.color}'\n",
    "    \n",
    "    "
   ]
  },
  {
   "cell_type": "code",
   "execution_count": 3,
   "metadata": {},
   "outputs": [],
   "source": [
    "r_4 = Card('Quatro', 'Vermelho')"
   ]
  },
  {
   "cell_type": "code",
   "execution_count": 4,
   "metadata": {},
   "outputs": [
    {
     "data": {
      "text/plain": [
       "'Quatro Vermelho'"
      ]
     },
     "execution_count": 4,
     "metadata": {},
     "output_type": "execute_result"
    }
   ],
   "source": [
    "str(r_4)"
   ]
  },
  {
   "cell_type": "markdown",
   "metadata": {},
   "source": [
    "# BARALHO"
   ]
  },
  {
   "cell_type": "code",
   "execution_count": 5,
   "metadata": {},
   "outputs": [],
   "source": [
    "class Deck:\n",
    "    \n",
    "    def __init__(self):\n",
    "        \n",
    "        self.baralho = []\n",
    "        \n",
    "        '''CARTAS NORMAIS'''\n",
    "        for number in numbers:\n",
    "            for color in colors:\n",
    "                \n",
    "                new_card1 = Card(number,color)\n",
    "                new_card2 = Card(number,color)\n",
    "                \n",
    "                self.baralho.append(new_card1)\n",
    "                self.baralho.append(new_card2)\n",
    "        \n",
    "        '''ZERO'''\n",
    "        for color in colors:\n",
    "                \n",
    "            new_card = Card('Zero',color)\n",
    "                \n",
    "            self.baralho.append(new_card)\n",
    "            \n",
    "        '''PRETO'''\n",
    "        for especial in especiais:\n",
    "            for color in colors:\n",
    "                \n",
    "                new_card = Card(especial,'Preto')\n",
    "                \n",
    "                self.baralho.append(new_card)\n",
    "                \n",
    "    def shuffle(self):\n",
    "        random.shuffle(self.baralho)\n",
    "        \n",
    "    def uma_carta(self):\n",
    "        return self.baralho.pop()"
   ]
  },
  {
   "cell_type": "code",
   "execution_count": 6,
   "metadata": {},
   "outputs": [],
   "source": [
    "cards = Deck()"
   ]
  },
  {
   "cell_type": "code",
   "execution_count": 7,
   "metadata": {},
   "outputs": [],
   "source": [
    "cards.shuffle()"
   ]
  },
  {
   "cell_type": "code",
   "execution_count": 8,
   "metadata": {},
   "outputs": [],
   "source": [
    "# for card in cards.baralho:\n",
    "#     print(card)"
   ]
  },
  {
   "cell_type": "code",
   "execution_count": 9,
   "metadata": {},
   "outputs": [
    {
     "data": {
      "text/plain": [
       "108"
      ]
     },
     "execution_count": 9,
     "metadata": {},
     "output_type": "execute_result"
    }
   ],
   "source": [
    "len(cards.baralho)"
   ]
  },
  {
   "cell_type": "code",
   "execution_count": 10,
   "metadata": {},
   "outputs": [],
   "source": [
    "# print(cards.uma_carta())"
   ]
  },
  {
   "cell_type": "markdown",
   "metadata": {},
   "source": [
    "# JOGADOR"
   ]
  },
  {
   "cell_type": "code",
   "execution_count": 11,
   "metadata": {},
   "outputs": [],
   "source": [
    "class Player:\n",
    "    \n",
    "    def __init__(self,name):\n",
    "        \n",
    "        self.name = name\n",
    "        \n",
    "        self.player_deck = []\n",
    "        \n",
    "\n",
    "    def __len__(self):\n",
    "        return len(self.player_deck)\n",
    "    \n",
    "    def __str__(self):\n",
    "        return f'{self.name} tem {len(self.player_deck)} cartas'\n",
    "    \n",
    "    def joga(self):\n",
    "        return player_deck"
   ]
  },
  {
   "cell_type": "code",
   "execution_count": 12,
   "metadata": {},
   "outputs": [],
   "source": [
    "victor = Player('Victor')"
   ]
  },
  {
   "cell_type": "code",
   "execution_count": 13,
   "metadata": {},
   "outputs": [
    {
     "data": {
      "text/plain": [
       "'Victor'"
      ]
     },
     "execution_count": 13,
     "metadata": {},
     "output_type": "execute_result"
    }
   ],
   "source": [
    "victor.name"
   ]
  },
  {
   "cell_type": "code",
   "execution_count": null,
   "metadata": {},
   "outputs": [],
   "source": []
  },
  {
   "cell_type": "markdown",
   "metadata": {},
   "source": [
    "# JOGO"
   ]
  },
  {
   "cell_type": "code",
   "execution_count": 14,
   "metadata": {},
   "outputs": [],
   "source": [
    "jogador1 = Player('Josivaldo')\n",
    "jogador2 = Player('Pedrovisky')\n",
    "\n",
    "baralho_do_jogo = Deck()\n",
    "baralho_do_jogo.shuffle()\n",
    "\n",
    "while len(jogador2) < 7:\n",
    "    \n",
    "    if len(jogador1) < 7:\n",
    "        jogador1.player_deck.append(baralho_do_jogo.uma_carta())\n",
    "        \n",
    "    jogador2.player_deck.append(baralho_do_jogo.uma_carta())\n",
    "\n",
    "\n",
    "gameon = True\n",
    "carta_na_mesa = baralho_do_jogo.uma_carta()"
   ]
  },
  {
   "cell_type": "code",
   "execution_count": 15,
   "metadata": {},
   "outputs": [
    {
     "name": "stdout",
     "output_type": "stream",
     "text": [
      "Não jogável\n",
      "Não jogável\n",
      "Não jogável\n",
      "Jogável\n",
      "Jogável\n",
      "Não jogável\n",
      "Não jogável\n"
     ]
    }
   ],
   "source": [
    "while gameon:\n",
    "    \n",
    "    #começa o jogo\n",
    "    \n",
    "    \n",
    "    \n",
    "    #verifica se um jogador pode jogar\n",
    "    jogavel = []\n",
    "    \n",
    "    for carta in jogador1.player_deck:\n",
    "        \n",
    "        if carta.color == carta_na_mesa.color or carta.number == carta_na_mesa.number:\n",
    "            jogavel.append(carta)\n",
    "            print('Jogável')\n",
    "        else:\n",
    "            print('Não jogável')\n",
    "    \n",
    "    \n",
    "    #joga\n",
    "    \n",
    "    #pega carta\n",
    "    break"
   ]
  },
  {
   "cell_type": "code",
   "execution_count": 16,
   "metadata": {},
   "outputs": [
    {
     "name": "stdout",
     "output_type": "stream",
     "text": [
      "Bloqueio Amarelo\n"
     ]
    }
   ],
   "source": [
    "print(carta_na_mesa)"
   ]
  },
  {
   "cell_type": "code",
   "execution_count": 17,
   "metadata": {},
   "outputs": [
    {
     "name": "stdout",
     "output_type": "stream",
     "text": [
      "Um Azul\n",
      "Um Vermelho\n",
      "Seis Azul\n",
      "Vira Amarelo\n",
      "Bloqueio Vermelho\n",
      "Zero Vermelho\n",
      "+2 Vermelho\n"
     ]
    }
   ],
   "source": [
    "for i in jogador1.player_deck:\n",
    "    print(i)"
   ]
  },
  {
   "cell_type": "code",
   "execution_count": 18,
   "metadata": {},
   "outputs": [
    {
     "name": "stdout",
     "output_type": "stream",
     "text": [
      "Vira Amarelo\n",
      "Bloqueio Vermelho\n"
     ]
    }
   ],
   "source": [
    "for i in jogavel:\n",
    "    print(i)"
   ]
  },
  {
   "cell_type": "code",
   "execution_count": null,
   "metadata": {},
   "outputs": [],
   "source": []
  }
 ],
 "metadata": {
  "kernelspec": {
   "display_name": "Python 3",
   "language": "python",
   "name": "python3"
  },
  "language_info": {
   "codemirror_mode": {
    "name": "ipython",
    "version": 3
   },
   "file_extension": ".py",
   "mimetype": "text/x-python",
   "name": "python",
   "nbconvert_exporter": "python",
   "pygments_lexer": "ipython3",
   "version": "3.8.2"
  }
 },
 "nbformat": 4,
 "nbformat_minor": 4
}
